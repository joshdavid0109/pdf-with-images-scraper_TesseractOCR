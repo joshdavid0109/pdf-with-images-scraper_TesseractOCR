{
 "cells": [
  {
   "cell_type": "code",
   "id": "initial_id",
   "metadata": {
    "collapsed": true,
    "ExecuteTime": {
     "end_time": "2024-12-02T15:10:11.722899Z",
     "start_time": "2024-12-02T15:10:03.393676Z"
    }
   },
   "source": "!pip install pymupdf pytesseract Pillow",
   "outputs": [
    {
     "name": "stdout",
     "output_type": "stream",
     "text": [
      "Requirement already satisfied: pymupdf in c:\\users\\jd\\appdata\\local\\packages\\pythonsoftwarefoundation.python.3.11_qbz5n2kfra8p0\\localcache\\local-packages\\python311\\site-packages (1.24.14)\n",
      "Requirement already satisfied: pytesseract in c:\\users\\jd\\appdata\\local\\packages\\pythonsoftwarefoundation.python.3.11_qbz5n2kfra8p0\\localcache\\local-packages\\python311\\site-packages (0.3.13)\n",
      "Requirement already satisfied: Pillow in c:\\users\\jd\\appdata\\local\\packages\\pythonsoftwarefoundation.python.3.11_qbz5n2kfra8p0\\localcache\\local-packages\\python311\\site-packages (11.0.0)\n",
      "Requirement already satisfied: packaging>=21.3 in c:\\users\\jd\\appdata\\local\\packages\\pythonsoftwarefoundation.python.3.11_qbz5n2kfra8p0\\localcache\\local-packages\\python311\\site-packages (from pytesseract) (23.2)\n",
      "Note: you may need to restart the kernel to use updated packages.\n"
     ]
    },
    {
     "name": "stderr",
     "output_type": "stream",
     "text": [
      "\n",
      "[notice] A new release of pip is available: 24.0 -> 24.3.1\n",
      "[notice] To update, run: C:\\Users\\Jd\\AppData\\Local\\Microsoft\\WindowsApps\\PythonSoftwareFoundation.Python.3.11_qbz5n2kfra8p0\\python.exe -m pip install --upgrade pip\n"
     ]
    }
   ],
   "execution_count": 3
  },
  {
   "cell_type": "code",
   "source": [
    "import fitz  #PyMuPDF\n",
    "import pytesseract\n",
    "from PIL import Image\n",
    "import os\n",
    "import io\n",
    "import csv\n",
    "\n",
    "pdf_dir = \"pdf_files_sdg6\"  #change to pdf directory\n",
    "csv_file_path = \"DATASET_AP_FINALdipasure - SDG 16.csv\"   #change to where the extracted text will be saved\n",
    "\n",
    "extracted_texts = []\n",
    "\n",
    "#loop through all the pdfs in the directory\n",
    "for pdf_file in os.listdir(pdf_dir):\n",
    "    if pdf_file.endswith(\".pdf\"):\n",
    "        file_path = os.path.join(pdf_dir, pdf_file)\n",
    "\n",
    "        #open pdf\n",
    "        pdf_document = fitz.open(file_path)\n",
    "\n",
    "        #placeholder for all the extracted text (images and direct text)\n",
    "        all_text = \"\"\n",
    "\n",
    "        #loop through each page\n",
    "        for page_number in range(len(pdf_document)):\n",
    "            page = pdf_document[page_number]\n",
    "\n",
    "            #extract all visible images in the pdf\n",
    "            page_text = page.get_text()\n",
    "            all_text += page_text\n",
    "\n",
    "            #get all images from the pdf\n",
    "            images = page.get_images(full=True)\n",
    "            for img_index, img in enumerate(images):\n",
    "                xref = img[0]\n",
    "                base_image = pdf_document.extract_image(xref)\n",
    "                image_bytes = base_image[\"image\"]\n",
    "                image_ext = base_image[\"ext\"]\n",
    "\n",
    "                image = Image.open(io.BytesIO(image_bytes))\n",
    "\n",
    "                #perform OCR on the image\n",
    "                ocr_text = pytesseract.image_to_string(image)\n",
    "                all_text += ocr_text\n",
    "\n",
    "        extracted_texts.append(all_text)\n",
    "\n",
    "#update the rows in the csv file\n",
    "updated_rows = []\n",
    "with open(csv_file_path, mode=\"r\", newline=\"\", encoding=\"utf-8\") as csvfile:\n",
    "    reader = csv.reader(csvfile)\n",
    "    headers = next(reader) \n",
    "    for row in reader:\n",
    "        #fill in all the rows with \"\" or null values\n",
    "        if len(row) > 1 and row[1].strip() in (\"\", \"<null>\"):\n",
    "            if extracted_texts:\n",
    "                row[1] = extracted_texts.pop(0)\n",
    "                row[headers.index(\"LABEL/S (SDG)\")] = \"6\"  # Set 'label' column to '16'\n",
    "\n",
    "        updated_rows.append(row)\n",
    "\n",
    "#write the updated rows in the csv file\n",
    "with open(csv_file_path, mode=\"w\", newline=\"\", encoding=\"utf-8\") as csvfile:\n",
    "    writer = csv.writer(csvfile)\n",
    "    writer.writerow(headers)  # Write the header row\n",
    "    writer.writerows(updated_rows)\n",
    "\n",
    "print(f\"Extracted text updated in {csv_file_path}.\")\n"
   ],
   "metadata": {
    "collapsed": false,
    "ExecuteTime": {
     "end_time": "2024-12-02T15:28:05.380657Z",
     "start_time": "2024-12-02T15:27:15.873646Z"
    }
   },
   "id": "ac4c11a5c24b34df",
   "outputs": [
    {
     "name": "stdout",
     "output_type": "stream",
     "text": [
      "Extracted text updated in DATASET_AP_FINALdipasure - SDG 16.csv.\n"
     ]
    }
   ],
   "execution_count": 2
  }
 ],
 "metadata": {
  "kernelspec": {
   "display_name": "Python 3",
   "language": "python",
   "name": "python3"
  },
  "language_info": {
   "codemirror_mode": {
    "name": "ipython",
    "version": 2
   },
   "file_extension": ".py",
   "mimetype": "text/x-python",
   "name": "python",
   "nbconvert_exporter": "python",
   "pygments_lexer": "ipython2",
   "version": "2.7.6"
  }
 },
 "nbformat": 4,
 "nbformat_minor": 5
}
